{
  "nbformat": 4,
  "nbformat_minor": 0,
  "metadata": {
    "colab": {
      "name": "10-19.ipynb",
      "provenance": [],
      "collapsed_sections": [],
      "authorship_tag": "ABX9TyMkjjO15b8qN3W2zZ5P1cG+",
      "include_colab_link": true
    },
    "kernelspec": {
      "name": "python3",
      "display_name": "Python 3"
    }
  },
  "cells": [
    {
      "cell_type": "markdown",
      "metadata": {
        "id": "view-in-github",
        "colab_type": "text"
      },
      "source": [
        "<a href=\"https://colab.research.google.com/github/6ma6X/NLP100/blob/master/10_19.ipynb\" target=\"_parent\"><img src=\"https://colab.research.google.com/assets/colab-badge.svg\" alt=\"Open In Colab\"/></a>"
      ]
    },
    {
      "cell_type": "code",
      "metadata": {
        "id": "cnBDgKcNeRcg",
        "colab_type": "code",
        "colab": {
          "base_uri": "https://localhost:8080/",
          "height": 34
        },
        "outputId": "e5ac2988-b28c-44db-ae70-6d2e099e298f"
      },
      "source": [
        "!ls"
      ],
      "execution_count": 1,
      "outputs": [
        {
          "output_type": "stream",
          "text": [
            "popular-names.txt\n"
          ],
          "name": "stdout"
        }
      ]
    },
    {
      "cell_type": "code",
      "metadata": {
        "id": "b7ItjhzhezB1",
        "colab_type": "code",
        "colab": {
          "base_uri": "https://localhost:8080/",
          "height": 34
        },
        "outputId": "433094fd-7721-4ae4-d011-765205d91f23"
      },
      "source": [
        "# 10. 行数のカウント\n",
        "\n",
        "f = open(\"popular-names.txt\", \"r\")\n",
        "\n",
        "ct = 0\n",
        "\n",
        "for line in f:\n",
        "    ct += 1\n",
        "\n",
        "print(ct)\n",
        "\n",
        "f.close()"
      ],
      "execution_count": 2,
      "outputs": [
        {
          "output_type": "stream",
          "text": [
            "2780\n"
          ],
          "name": "stdout"
        }
      ]
    },
    {
      "cell_type": "code",
      "metadata": {
        "id": "Zl3pAnZ6e386",
        "colab_type": "code",
        "colab": {
          "base_uri": "https://localhost:8080/",
          "height": 34
        },
        "outputId": "8152571c-fb29-491a-d81f-1b0e65ad49f4"
      },
      "source": [
        "!cat popular-names.txt | wc -l "
      ],
      "execution_count": 3,
      "outputs": [
        {
          "output_type": "stream",
          "text": [
            "2780\n"
          ],
          "name": "stdout"
        }
      ]
    },
    {
      "cell_type": "code",
      "metadata": {
        "id": "D7A7D0NIe81_",
        "colab_type": "code",
        "colab": {}
      },
      "source": [
        "# 11. タブをスペースに置換\n",
        "\n",
        "f = open(\"popular-names.txt\", \"r\")\n",
        "\n",
        "with open(\"11.txt\", \"w\") as f11:\n",
        "    for line in f:\n",
        "        f11.write(line.replace(\"\\t\", \" \"))\n",
        "\n",
        "f.close()"
      ],
      "execution_count": 4,
      "outputs": []
    },
    {
      "cell_type": "code",
      "metadata": {
        "id": "2ciEHjlFgCk1",
        "colab_type": "code",
        "colab": {}
      },
      "source": [
        "!expand -t 1 popular-names.txt > 11_test.txt"
      ],
      "execution_count": 5,
      "outputs": []
    },
    {
      "cell_type": "code",
      "metadata": {
        "id": "5RHgRScPgRIS",
        "colab_type": "code",
        "colab": {}
      },
      "source": [
        "!diff 11.txt 11_test.txt"
      ],
      "execution_count": 6,
      "outputs": []
    },
    {
      "cell_type": "code",
      "metadata": {
        "id": "rxMl6wu9g5j1",
        "colab_type": "code",
        "colab": {}
      },
      "source": [
        "# 12. 1列目をcol1.txtに，2列目をcol2.txtに保存\n",
        "\n",
        "f = open(\"popular-names.txt\", \"r\")\n",
        "f12_1 = open(\"col1.txt\", \"w\")\n",
        "f12_2 = open(\"col2.txt\", \"w\")\n",
        "\n",
        "for line in f:\n",
        "    words = line.split(\"\\t\")\n",
        "    f12_1.write(f\"{words[0]}\\n\")\n",
        "    f12_2.write(f\"{words[1]}\\n\")\n",
        "\n",
        "\n",
        "f.close()\n",
        "f12_1.close()\n",
        "f12_2.close()"
      ],
      "execution_count": 7,
      "outputs": []
    },
    {
      "cell_type": "code",
      "metadata": {
        "id": "uk0Vz6ajhWeS",
        "colab_type": "code",
        "colab": {}
      },
      "source": [
        "!cut -f 1 popular-names.txt > col1_test.txt\n",
        "!cut -f 2 popular-names.txt > col2_test.txt"
      ],
      "execution_count": 8,
      "outputs": []
    },
    {
      "cell_type": "code",
      "metadata": {
        "id": "hizg3VbAiFM9",
        "colab_type": "code",
        "colab": {}
      },
      "source": [
        "!diff col1.txt col1_test.txt\n",
        "!diff col2.txt col2_test.txt"
      ],
      "execution_count": 9,
      "outputs": []
    },
    {
      "cell_type": "code",
      "metadata": {
        "id": "XAMUlLo5is4h",
        "colab_type": "code",
        "colab": {}
      },
      "source": [
        "# 13. col1.txtとcol2.txtをマージ\n",
        "\n",
        "f13_1 = open(\"col1.txt\", \"r\")\n",
        "f13_2 = open(\"col2.txt\", \"r\")\n",
        "f = open(\"cols.txt\", \"w\")\n",
        "\n",
        "for line1, line2 in zip(f13_1, f13_2):\n",
        "    word1 = line1.replace(\"\\n\", \"\")\n",
        "    word2 = line2.replace(\"\\n\", \"\")\n",
        "    f.write(f\"{word1}\\t{word2}\\n\")\n",
        "\n",
        "f.close()\n",
        "f13_1.close()\n",
        "f13_2.close()"
      ],
      "execution_count": 10,
      "outputs": []
    },
    {
      "cell_type": "code",
      "metadata": {
        "id": "X6NRzM3Dkxuf",
        "colab_type": "code",
        "colab": {}
      },
      "source": [
        "!paste col1.txt col2.txt > cols_test.txt"
      ],
      "execution_count": 11,
      "outputs": []
    },
    {
      "cell_type": "code",
      "metadata": {
        "id": "Vezdv5qulAxA",
        "colab_type": "code",
        "colab": {}
      },
      "source": [
        "!diff cols.txt cols_test.txt"
      ],
      "execution_count": 12,
      "outputs": []
    },
    {
      "cell_type": "code",
      "metadata": {
        "id": "yVo4N2O0lF_9",
        "colab_type": "code",
        "colab": {}
      },
      "source": [
        "# 14. 先頭からN行を出力\n",
        "\n",
        "def head(n):\n",
        "    f = open(\"popular-names.txt\", \"r\")\n",
        "\n",
        "    ct = 0\n",
        "    for line in f:\n",
        "        print(line, end=\"\")\n",
        "        ct += 1\n",
        "        if ct == n:\n",
        "            break\n",
        "\n",
        "    f.close()"
      ],
      "execution_count": 13,
      "outputs": []
    },
    {
      "cell_type": "code",
      "metadata": {
        "id": "8EorSJGglaox",
        "colab_type": "code",
        "colab": {
          "base_uri": "https://localhost:8080/",
          "height": 187
        },
        "outputId": "dc0fa25f-2397-49cb-aab6-92c0b483a959"
      },
      "source": [
        "head(10)"
      ],
      "execution_count": 14,
      "outputs": [
        {
          "output_type": "stream",
          "text": [
            "Mary\tF\t7065\t1880\n",
            "Anna\tF\t2604\t1880\n",
            "Emma\tF\t2003\t1880\n",
            "Elizabeth\tF\t1939\t1880\n",
            "Minnie\tF\t1746\t1880\n",
            "Margaret\tF\t1578\t1880\n",
            "Ida\tF\t1472\t1880\n",
            "Alice\tF\t1414\t1880\n",
            "Bertha\tF\t1320\t1880\n",
            "Sarah\tF\t1288\t1880\n"
          ],
          "name": "stdout"
        }
      ]
    },
    {
      "cell_type": "code",
      "metadata": {
        "id": "OwcHsZbHlbvv",
        "colab_type": "code",
        "colab": {
          "base_uri": "https://localhost:8080/",
          "height": 187
        },
        "outputId": "6155e271-ed1d-458d-dc28-eea5a967c67f"
      },
      "source": [
        "!head -n 10 popular-names.txt"
      ],
      "execution_count": 15,
      "outputs": [
        {
          "output_type": "stream",
          "text": [
            "Mary\tF\t7065\t1880\n",
            "Anna\tF\t2604\t1880\n",
            "Emma\tF\t2003\t1880\n",
            "Elizabeth\tF\t1939\t1880\n",
            "Minnie\tF\t1746\t1880\n",
            "Margaret\tF\t1578\t1880\n",
            "Ida\tF\t1472\t1880\n",
            "Alice\tF\t1414\t1880\n",
            "Bertha\tF\t1320\t1880\n",
            "Sarah\tF\t1288\t1880\n"
          ],
          "name": "stdout"
        }
      ]
    },
    {
      "cell_type": "code",
      "metadata": {
        "id": "qMmvsF6x6hYj",
        "colab_type": "code",
        "colab": {}
      },
      "source": [
        "# 15. 末尾のN行を出力\n",
        "\n",
        "def tail(n):\n",
        "    f = open(\"popular-names.txt\", \"r\")\n",
        "\n",
        "    num = 0\n",
        "    for line in f:\n",
        "        num += 1\n",
        "\n",
        "    f.close()\n",
        "\n",
        "    f = open(\"popular-names.txt\", \"r\")\n",
        "    for line in f:\n",
        "        num -= 1\n",
        "        if num < n:\n",
        "            print(line, end=\"\")\n",
        "\n",
        "    f.close()"
      ],
      "execution_count": 16,
      "outputs": []
    },
    {
      "cell_type": "code",
      "metadata": {
        "id": "FN0GUv-5llOn",
        "colab_type": "code",
        "colab": {
          "base_uri": "https://localhost:8080/",
          "height": 187
        },
        "outputId": "0cd4546c-05df-4005-9ef1-206b71c67d6f"
      },
      "source": [
        "tail(10)"
      ],
      "execution_count": 17,
      "outputs": [
        {
          "output_type": "stream",
          "text": [
            "Liam\tM\t19837\t2018\n",
            "Noah\tM\t18267\t2018\n",
            "William\tM\t14516\t2018\n",
            "James\tM\t13525\t2018\n",
            "Oliver\tM\t13389\t2018\n",
            "Benjamin\tM\t13381\t2018\n",
            "Elijah\tM\t12886\t2018\n",
            "Lucas\tM\t12585\t2018\n",
            "Mason\tM\t12435\t2018\n",
            "Logan\tM\t12352\t2018\n"
          ],
          "name": "stdout"
        }
      ]
    },
    {
      "cell_type": "code",
      "metadata": {
        "id": "FIFsXhDemhQU",
        "colab_type": "code",
        "colab": {
          "base_uri": "https://localhost:8080/",
          "height": 187
        },
        "outputId": "8c405b6d-11de-4d18-8922-08ac211ddf9b"
      },
      "source": [
        "!tail -n 10 popular-names.txt"
      ],
      "execution_count": 18,
      "outputs": [
        {
          "output_type": "stream",
          "text": [
            "Liam\tM\t19837\t2018\n",
            "Noah\tM\t18267\t2018\n",
            "William\tM\t14516\t2018\n",
            "James\tM\t13525\t2018\n",
            "Oliver\tM\t13389\t2018\n",
            "Benjamin\tM\t13381\t2018\n",
            "Elijah\tM\t12886\t2018\n",
            "Lucas\tM\t12585\t2018\n",
            "Mason\tM\t12435\t2018\n",
            "Logan\tM\t12352\t2018\n"
          ],
          "name": "stdout"
        }
      ]
    },
    {
      "cell_type": "code",
      "metadata": {
        "id": "O1gLnWO17VW_",
        "colab_type": "code",
        "colab": {}
      },
      "source": [
        "# 16. ファイルをN分割する\n",
        "\n",
        "def split(n):\n",
        "    f = open(\"popular-names.txt\", \"r\")\n",
        "\n",
        "    num = 0\n",
        "    for line in f:\n",
        "        num += 1\n",
        "\n",
        "    f.close()\n",
        "\n",
        "    for i in range(n):\n",
        "        id = str(i).zfill(2)\n",
        "        f16 = open(f\"16-{id}\", \"w\")\n",
        "\n",
        "        with open(\"popular-names.txt\", \"r\") as f:\n",
        "            for index, line in enumerate(f):\n",
        "                if index >= i * (num / n) and index < (i+1) * (num / n):\n",
        "                    f16.write(line)\n",
        "\n",
        "        f16.close()"
      ],
      "execution_count": 19,
      "outputs": []
    },
    {
      "cell_type": "code",
      "metadata": {
        "id": "w5T22DVu8uf-",
        "colab_type": "code",
        "colab": {}
      },
      "source": [
        "split(10)"
      ],
      "execution_count": 20,
      "outputs": []
    },
    {
      "cell_type": "code",
      "metadata": {
        "id": "10zmhh5l689X",
        "colab_type": "code",
        "colab": {}
      },
      "source": [
        "!split -l 278 -d popular-names.txt 16_test-"
      ],
      "execution_count": 21,
      "outputs": []
    },
    {
      "cell_type": "code",
      "metadata": {
        "id": "MFWimSfI89gR",
        "colab_type": "code",
        "colab": {}
      },
      "source": [
        "!diff 16-00 16_test-00\n",
        "!diff 16-01 16_test-01\n",
        "!diff 16-02 16_test-02\n",
        "!diff 16-03 16_test-03\n",
        "!diff 16-04 16_test-04\n",
        "!diff 16-05 16_test-05\n",
        "!diff 16-06 16_test-06\n",
        "!diff 16-07 16_test-07\n",
        "!diff 16-08 16_test-08\n",
        "!diff 16-09 16_test-09"
      ],
      "execution_count": 22,
      "outputs": []
    },
    {
      "cell_type": "code",
      "metadata": {
        "id": "45OORNbrfaAO",
        "colab_type": "code",
        "colab": {}
      },
      "source": [
        "# 17. １列目の文字列の異なり\n",
        "\n",
        "f = open(\"popular-names.txt\", \"r\")\n",
        "f17 = open(\"17.txt\", \"w\")\n",
        "\n",
        "\n",
        "words = []\n",
        "\n",
        "for line in f:\n",
        "    word = line.split(\"\\t\")[0]\n",
        "    words.append(word)\n",
        "\n",
        "words = sorted(list(set(words)))\n",
        "\n",
        "for word in words:\n",
        "    f17.write(f\"{word}\\n\")\n",
        "\n",
        "f17.close()\n",
        "f.close()"
      ],
      "execution_count": 23,
      "outputs": []
    },
    {
      "cell_type": "code",
      "metadata": {
        "id": "qH-cFb6gf5xq",
        "colab_type": "code",
        "colab": {}
      },
      "source": [
        "!cut -f 1 popular-names.txt | sort | uniq > 17_test.txt"
      ],
      "execution_count": 24,
      "outputs": []
    },
    {
      "cell_type": "code",
      "metadata": {
        "id": "BntSSa6ugs4O",
        "colab_type": "code",
        "colab": {}
      },
      "source": [
        "!diff 17.txt 17_test.txt"
      ],
      "execution_count": 25,
      "outputs": []
    },
    {
      "cell_type": "code",
      "metadata": {
        "id": "VW0aW6rJg2iT",
        "colab_type": "code",
        "colab": {}
      },
      "source": [
        "# 18. 各行を3コラム目の数値の降順にソート\n",
        "\n",
        "f = open(\"popular-names.txt\", \"r\")\n",
        "f18 = open(\"18.txt\", \"w\")\n",
        "\n",
        "data = dict()\n",
        "\n",
        "for line in f:\n",
        "    data[line] = int(line.split(\"\\t\")[2])\n",
        "\n",
        "data = sorted(data.items(), key=lambda x:x[1], reverse=True)\n",
        "for datum in data:\n",
        "    f18.write(datum[0])\n",
        "\n",
        "f18.close()\n",
        "f.close()"
      ],
      "execution_count": 26,
      "outputs": []
    },
    {
      "cell_type": "code",
      "metadata": {
        "id": "e4BxskjyyZNo",
        "colab_type": "code",
        "colab": {}
      },
      "source": [
        "!sort -k 3 -nr popular-names.txt > 18_test.txt"
      ],
      "execution_count": 27,
      "outputs": []
    },
    {
      "cell_type": "code",
      "metadata": {
        "id": "PgbqTUYeykSN",
        "colab_type": "code",
        "colab": {
          "base_uri": "https://localhost:8080/",
          "height": 357
        },
        "outputId": "d84a375a-b9a6-42e1-b7d7-182757b1afea"
      },
      "source": [
        "!head -n 20 18.txt"
      ],
      "execution_count": 28,
      "outputs": [
        {
          "output_type": "stream",
          "text": [
            "Linda\tF\t99689\t1947\n",
            "Linda\tF\t96211\t1948\n",
            "James\tM\t94757\t1947\n",
            "Michael\tM\t92704\t1957\n",
            "Robert\tM\t91640\t1947\n",
            "Linda\tF\t91016\t1949\n",
            "Michael\tM\t90656\t1956\n",
            "Michael\tM\t90517\t1958\n",
            "James\tM\t88584\t1948\n",
            "Michael\tM\t88528\t1954\n",
            "Michael\tM\t88327\t1955\n",
            "John\tM\t88319\t1947\n",
            "James\tM\t87436\t1946\n",
            "James\tM\t87261\t1951\n",
            "James\tM\t87063\t1952\n",
            "Michael\tM\t86917\t1961\n",
            "James\tM\t86857\t1949\n",
            "Robert\tM\t86604\t1952\n",
            "Robert\tM\t86351\t1951\n",
            "Robert\tM\t86298\t1954\n"
          ],
          "name": "stdout"
        }
      ]
    },
    {
      "cell_type": "code",
      "metadata": {
        "id": "XzuSHzDMyxzh",
        "colab_type": "code",
        "colab": {
          "base_uri": "https://localhost:8080/",
          "height": 357
        },
        "outputId": "77434d90-3968-461a-93bb-76317fd8c108"
      },
      "source": [
        "!head -n 20 18_test.txt"
      ],
      "execution_count": 29,
      "outputs": [
        {
          "output_type": "stream",
          "text": [
            "Linda\tF\t99689\t1947\n",
            "Linda\tF\t96211\t1948\n",
            "James\tM\t94757\t1947\n",
            "Michael\tM\t92704\t1957\n",
            "Robert\tM\t91640\t1947\n",
            "Linda\tF\t91016\t1949\n",
            "Michael\tM\t90656\t1956\n",
            "Michael\tM\t90517\t1958\n",
            "James\tM\t88584\t1948\n",
            "Michael\tM\t88528\t1954\n",
            "Michael\tM\t88327\t1955\n",
            "John\tM\t88319\t1947\n",
            "James\tM\t87436\t1946\n",
            "James\tM\t87261\t1951\n",
            "James\tM\t87063\t1952\n",
            "Michael\tM\t86917\t1961\n",
            "James\tM\t86857\t1949\n",
            "Robert\tM\t86604\t1952\n",
            "Robert\tM\t86351\t1951\n",
            "Robert\tM\t86298\t1954\n"
          ],
          "name": "stdout"
        }
      ]
    },
    {
      "cell_type": "code",
      "metadata": {
        "id": "QiHkLXA-z5Ka",
        "colab_type": "code",
        "colab": {}
      },
      "source": [
        "# 19. 各行の1コラム目の文字列の出現頻度を求め，出現頻度の高い順に並べる\n",
        "\n",
        "f = open(\"popular-names.txt\", \"r\")\n",
        "f19 = open(\"19.txt\", \"w\")\n",
        "\n",
        "\n",
        "words = dict()\n",
        "\n",
        "for line in f:\n",
        "    word = line.split(\"\\t\")[0]\n",
        "    if word in words:\n",
        "        words[word] += 1\n",
        "    else:\n",
        "        words[word] = 1\n",
        "\n",
        "words = sorted(words.items(), key=lambda x:x[1], reverse=True)\n",
        "\n",
        "for (word, ct) in words:\n",
        "    f19.write(f\"\\t{ct}\\t{word}\\n\")\n",
        "\n",
        "f19.close()\n",
        "f.close()"
      ],
      "execution_count": 30,
      "outputs": []
    },
    {
      "cell_type": "code",
      "metadata": {
        "id": "_rg_BP3IzmuL",
        "colab_type": "code",
        "colab": {}
      },
      "source": [
        "!cut -f 1 popular-names.txt | sort | uniq -c | sort -nr > 19_test.txt"
      ],
      "execution_count": 31,
      "outputs": []
    },
    {
      "cell_type": "code",
      "metadata": {
        "id": "jB8PNkYGzyvQ",
        "colab_type": "code",
        "colab": {
          "base_uri": "https://localhost:8080/",
          "height": 357
        },
        "outputId": "6f932cca-d596-4421-97ea-1460ace96959"
      },
      "source": [
        "!head -n 20 19.txt"
      ],
      "execution_count": 32,
      "outputs": [
        {
          "output_type": "stream",
          "text": [
            "\t118\tJames\n",
            "\t111\tWilliam\n",
            "\t108\tJohn\n",
            "\t108\tRobert\n",
            "\t92\tMary\n",
            "\t75\tCharles\n",
            "\t74\tMichael\n",
            "\t73\tElizabeth\n",
            "\t70\tJoseph\n",
            "\t60\tMargaret\n",
            "\t58\tGeorge\n",
            "\t58\tThomas\n",
            "\t57\tDavid\n",
            "\t51\tRichard\n",
            "\t45\tHelen\n",
            "\t43\tFrank\n",
            "\t43\tChristopher\n",
            "\t41\tAnna\n",
            "\t40\tEdward\n",
            "\t39\tRuth\n"
          ],
          "name": "stdout"
        }
      ]
    },
    {
      "cell_type": "code",
      "metadata": {
        "id": "V4y_bBgvzwVA",
        "colab_type": "code",
        "colab": {
          "base_uri": "https://localhost:8080/",
          "height": 357
        },
        "outputId": "f510f43a-4657-4390-941d-15055f6da4c7"
      },
      "source": [
        "!head -n 20 19_test.txt"
      ],
      "execution_count": 33,
      "outputs": [
        {
          "output_type": "stream",
          "text": [
            "    118 James\n",
            "    111 William\n",
            "    108 Robert\n",
            "    108 John\n",
            "     92 Mary\n",
            "     75 Charles\n",
            "     74 Michael\n",
            "     73 Elizabeth\n",
            "     70 Joseph\n",
            "     60 Margaret\n",
            "     58 Thomas\n",
            "     58 George\n",
            "     57 David\n",
            "     51 Richard\n",
            "     45 Helen\n",
            "     43 Frank\n",
            "     43 Christopher\n",
            "     41 Anna\n",
            "     40 Edward\n",
            "     39 Ruth\n"
          ],
          "name": "stdout"
        }
      ]
    },
    {
      "cell_type": "code",
      "metadata": {
        "id": "4QdD0yJR9aZx",
        "colab_type": "code",
        "colab": {}
      },
      "source": [
        "!find . \\! -name 'popular-names.txt' -delete"
      ],
      "execution_count": 34,
      "outputs": []
    }
  ]
}