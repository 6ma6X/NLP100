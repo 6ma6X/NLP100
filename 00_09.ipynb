{
  "nbformat": 4,
  "nbformat_minor": 0,
  "metadata": {
    "colab": {
      "name": "00-09.ipynb",
      "provenance": [],
      "authorship_tag": "ABX9TyO/5SVmAc0pk8V7u1Efy/f7",
      "include_colab_link": true
    },
    "kernelspec": {
      "name": "python3",
      "display_name": "Python 3"
    }
  },
  "cells": [
    {
      "cell_type": "markdown",
      "metadata": {
        "id": "view-in-github",
        "colab_type": "text"
      },
      "source": [
        "<a href=\"https://colab.research.google.com/github/6ma6X/NLP100/blob/master/00_09.ipynb\" target=\"_parent\"><img src=\"https://colab.research.google.com/assets/colab-badge.svg\" alt=\"Open In Colab\"/></a>"
      ]
    },
    {
      "cell_type": "code",
      "metadata": {
        "id": "ewhuNwjY9osE",
        "colab_type": "code",
        "colab": {
          "base_uri": "https://localhost:8080/",
          "height": 35
        },
        "outputId": "dee93273-e947-4993-85c1-67e46278308e"
      },
      "source": [
        "# 00. 文字列の逆順\n",
        "\n",
        "\"stressed\"[::-1]"
      ],
      "execution_count": 1,
      "outputs": [
        {
          "output_type": "execute_result",
          "data": {
            "application/vnd.google.colaboratory.intrinsic": {
              "type": "string"
            },
            "text/plain": [
              "'desserts'"
            ]
          },
          "metadata": {
            "tags": []
          },
          "execution_count": 1
        }
      ]
    },
    {
      "cell_type": "code",
      "metadata": {
        "id": "MTK6iMVJ-WZi",
        "colab_type": "code",
        "colab": {
          "base_uri": "https://localhost:8080/",
          "height": 35
        },
        "outputId": "7c1616b1-06d5-4685-bf17-1f7a2f640c4a"
      },
      "source": [
        "# 01. 「パタトクカシーー」\n",
        "\n",
        "text = \"パタトクカシーー\"\n",
        "text[0] + text[2] + text[4] + text[6]"
      ],
      "execution_count": 2,
      "outputs": [
        {
          "output_type": "execute_result",
          "data": {
            "application/vnd.google.colaboratory.intrinsic": {
              "type": "string"
            },
            "text/plain": [
              "'パトカー'"
            ]
          },
          "metadata": {
            "tags": []
          },
          "execution_count": 2
        }
      ]
    },
    {
      "cell_type": "code",
      "metadata": {
        "id": "UeSCwiZp-oc8",
        "colab_type": "code",
        "colab": {
          "base_uri": "https://localhost:8080/",
          "height": 35
        },
        "outputId": "abea76b7-83d7-4995-ce13-5c60050cf2cd"
      },
      "source": [
        "# 02. 「パトカー」＋「タクシー」＝「パタトクカシーー」\n",
        "\n",
        "text1 = \"パトカー\"\n",
        "text2 = \"タクシー\"\n",
        "\n",
        "ans = \"\"\n",
        "for i in range(4):\n",
        "    ans += text1[i] + text2[i]\n",
        "ans"
      ],
      "execution_count": 3,
      "outputs": [
        {
          "output_type": "execute_result",
          "data": {
            "application/vnd.google.colaboratory.intrinsic": {
              "type": "string"
            },
            "text/plain": [
              "'パタトクカシーー'"
            ]
          },
          "metadata": {
            "tags": []
          },
          "execution_count": 3
        }
      ]
    },
    {
      "cell_type": "code",
      "metadata": {
        "id": "HIOi_Aox-4yf",
        "colab_type": "code",
        "colab": {
          "base_uri": "https://localhost:8080/",
          "height": 34
        },
        "outputId": "770398dc-487f-4374-e983-986879e9b0d9"
      },
      "source": [
        "# 03. 円周率\n",
        "\n",
        "import re\n",
        "\n",
        "regex = re.compile('[^a-zA-Z]')\n",
        "\n",
        "text = \"Now I need a drink, alcoholic of course, after the heavy lectures involving quantum mechanics.\"\n",
        "[len(regex.sub('', word)) for word in text.split(\" \")]"
      ],
      "execution_count": 4,
      "outputs": [
        {
          "output_type": "execute_result",
          "data": {
            "text/plain": [
              "[3, 1, 4, 1, 5, 9, 2, 6, 5, 3, 5, 8, 9, 7, 9]"
            ]
          },
          "metadata": {
            "tags": []
          },
          "execution_count": 4
        }
      ]
    },
    {
      "cell_type": "code",
      "metadata": {
        "id": "AaFaqpgW_MRm",
        "colab_type": "code",
        "colab": {}
      },
      "source": [
        "# 04. 元素記号\n",
        "\n",
        "text = \"Hi He Lied Because Boron Could Not Oxidize Fluorine. New Nations Might Also Sign Peace Security Clause. Arthur King Can.\"\n",
        "nums = [1, 5, 6, 7, 8, 9, 15, 16, 19]\n",
        "\n",
        "ans = dict()\n",
        "\n",
        "words = [regex.sub('', word) for word in text.split(\" \")]"
      ],
      "execution_count": 5,
      "outputs": []
    },
    {
      "cell_type": "code",
      "metadata": {
        "id": "7BPkD2bkBx3T",
        "colab_type": "code",
        "colab": {
          "base_uri": "https://localhost:8080/",
          "height": 357
        },
        "outputId": "6d83529e-779e-451e-ad0f-dd400ef897c6"
      },
      "source": [
        "for i in range(len(words)):\n",
        "    if i + 1 in nums:\n",
        "        ans[i+1] = words[i][:1]\n",
        "    else:\n",
        "        ans[i+1] = words[i][:2]\n",
        "\n",
        "ans "
      ],
      "execution_count": 6,
      "outputs": [
        {
          "output_type": "execute_result",
          "data": {
            "text/plain": [
              "{1: 'H',\n",
              " 2: 'He',\n",
              " 3: 'Li',\n",
              " 4: 'Be',\n",
              " 5: 'B',\n",
              " 6: 'C',\n",
              " 7: 'N',\n",
              " 8: 'O',\n",
              " 9: 'F',\n",
              " 10: 'Ne',\n",
              " 11: 'Na',\n",
              " 12: 'Mi',\n",
              " 13: 'Al',\n",
              " 14: 'Si',\n",
              " 15: 'P',\n",
              " 16: 'S',\n",
              " 17: 'Cl',\n",
              " 18: 'Ar',\n",
              " 19: 'K',\n",
              " 20: 'Ca'}"
            ]
          },
          "metadata": {
            "tags": []
          },
          "execution_count": 6
        }
      ]
    },
    {
      "cell_type": "code",
      "metadata": {
        "id": "6Oj6EzHfCIr0",
        "colab_type": "code",
        "colab": {}
      },
      "source": [
        "# 05. n-gram\n",
        "\n",
        "def hoge_gram(num, list, space_mode):\n",
        "    ans = []\n",
        "    l = len(list)\n",
        "\n",
        "    for i in range(l-(num-1)):\n",
        "        text = \"\"\n",
        "        for j in range(num):\n",
        "            text += list[i+j]\n",
        "            if space_mode and j != (num-1):\n",
        "                text += \" \"\n",
        "        ans.append(text)\n",
        "\n",
        "    return ans"
      ],
      "execution_count": 7,
      "outputs": []
    },
    {
      "cell_type": "code",
      "metadata": {
        "id": "vFm2o8cwFxNb",
        "colab_type": "code",
        "colab": {
          "base_uri": "https://localhost:8080/",
          "height": 34
        },
        "outputId": "f66af5f1-34d9-4c94-9751-878c089dcbec"
      },
      "source": [
        "hoge_gram(2, \"I am an NLPer\".split(\" \"), True)"
      ],
      "execution_count": 8,
      "outputs": [
        {
          "output_type": "execute_result",
          "data": {
            "text/plain": [
              "['I am', 'am an', 'an NLPer']"
            ]
          },
          "metadata": {
            "tags": []
          },
          "execution_count": 8
        }
      ]
    },
    {
      "cell_type": "code",
      "metadata": {
        "id": "gtpuJGVsF3z-",
        "colab_type": "code",
        "colab": {
          "base_uri": "https://localhost:8080/",
          "height": 34
        },
        "outputId": "f0e3205c-dd95-46c5-88dc-977ff044730f"
      },
      "source": [
        "hoge_gram(2, \"I am an NLPer\", False)"
      ],
      "execution_count": 9,
      "outputs": [
        {
          "output_type": "execute_result",
          "data": {
            "text/plain": [
              "['I ', ' a', 'am', 'm ', ' a', 'an', 'n ', ' N', 'NL', 'LP', 'Pe', 'er']"
            ]
          },
          "metadata": {
            "tags": []
          },
          "execution_count": 9
        }
      ]
    },
    {
      "cell_type": "code",
      "metadata": {
        "id": "n4X5s4EQGNbP",
        "colab_type": "code",
        "colab": {}
      },
      "source": [
        "# 06. 集合\n",
        "\n",
        "X = set(hoge_gram(2, \"paraparaparadise\", False))\n",
        "Y = set(hoge_gram(2, \"paragraph\", False))"
      ],
      "execution_count": 10,
      "outputs": []
    },
    {
      "cell_type": "code",
      "metadata": {
        "id": "5PWr9Lg6G0lN",
        "colab_type": "code",
        "colab": {
          "base_uri": "https://localhost:8080/",
          "height": 34
        },
        "outputId": "0712ed7e-0a50-4581-ee48-b3c1f9f1b36a"
      },
      "source": [
        "X | Y "
      ],
      "execution_count": 11,
      "outputs": [
        {
          "output_type": "execute_result",
          "data": {
            "text/plain": [
              "{'ad', 'ag', 'ap', 'ar', 'di', 'gr', 'is', 'pa', 'ph', 'ra', 'se'}"
            ]
          },
          "metadata": {
            "tags": []
          },
          "execution_count": 11
        }
      ]
    },
    {
      "cell_type": "code",
      "metadata": {
        "id": "fAeDOdiFG7MC",
        "colab_type": "code",
        "colab": {
          "base_uri": "https://localhost:8080/",
          "height": 34
        },
        "outputId": "49230bf4-f75e-4753-cc9e-7a70db7d7e64"
      },
      "source": [
        "X & Y"
      ],
      "execution_count": 12,
      "outputs": [
        {
          "output_type": "execute_result",
          "data": {
            "text/plain": [
              "{'ap', 'ar', 'pa', 'ra'}"
            ]
          },
          "metadata": {
            "tags": []
          },
          "execution_count": 12
        }
      ]
    },
    {
      "cell_type": "code",
      "metadata": {
        "id": "HdnIF185G9q-",
        "colab_type": "code",
        "colab": {
          "base_uri": "https://localhost:8080/",
          "height": 34
        },
        "outputId": "ef15706f-025d-4f86-a78e-6d375692b5d0"
      },
      "source": [
        "X - Y"
      ],
      "execution_count": 13,
      "outputs": [
        {
          "output_type": "execute_result",
          "data": {
            "text/plain": [
              "{'ad', 'di', 'is', 'se'}"
            ]
          },
          "metadata": {
            "tags": []
          },
          "execution_count": 13
        }
      ]
    },
    {
      "cell_type": "code",
      "metadata": {
        "id": "Z5hLry_8HCtA",
        "colab_type": "code",
        "colab": {
          "base_uri": "https://localhost:8080/",
          "height": 34
        },
        "outputId": "da5da1ee-fbd8-4662-e038-a8a44c982b33"
      },
      "source": [
        "\"se\" in X"
      ],
      "execution_count": 14,
      "outputs": [
        {
          "output_type": "execute_result",
          "data": {
            "text/plain": [
              "True"
            ]
          },
          "metadata": {
            "tags": []
          },
          "execution_count": 14
        }
      ]
    },
    {
      "cell_type": "code",
      "metadata": {
        "id": "mg7I6Hv5HKao",
        "colab_type": "code",
        "colab": {
          "base_uri": "https://localhost:8080/",
          "height": 34
        },
        "outputId": "996fcfa9-1088-4b99-ce55-11acb6702804"
      },
      "source": [
        "\"se\" in Y"
      ],
      "execution_count": 15,
      "outputs": [
        {
          "output_type": "execute_result",
          "data": {
            "text/plain": [
              "False"
            ]
          },
          "metadata": {
            "tags": []
          },
          "execution_count": 15
        }
      ]
    },
    {
      "cell_type": "code",
      "metadata": {
        "id": "lCREV0IuHLlN",
        "colab_type": "code",
        "colab": {
          "base_uri": "https://localhost:8080/",
          "height": 35
        },
        "outputId": "76a10c70-4e40-40a8-e99a-dda5e5c2456a"
      },
      "source": [
        "# 07. テンプレートによる文生成\n",
        "\n",
        "def template(x, y, z):\n",
        "    return f\"{x}時の{y}は{z}\"\n",
        "\n",
        "template(12, \"気温\", 22.4)"
      ],
      "execution_count": 16,
      "outputs": [
        {
          "output_type": "execute_result",
          "data": {
            "application/vnd.google.colaboratory.intrinsic": {
              "type": "string"
            },
            "text/plain": [
              "'12時の気温は22.4'"
            ]
          },
          "metadata": {
            "tags": []
          },
          "execution_count": 16
        }
      ]
    },
    {
      "cell_type": "code",
      "metadata": {
        "id": "q7VfnVhAHbQS",
        "colab_type": "code",
        "colab": {}
      },
      "source": [
        "# 08. 暗号文\n",
        "\n",
        "def cipher(text):\n",
        "    ans = \"\"\n",
        "    for i in range(len(text)):\n",
        "        if text[i] >= 'a' and text[i] <= 'z':\n",
        "            ans += chr(219 - ord(text[i]))\n",
        "        else:\n",
        "            ans += text[i]\n",
        "    \n",
        "    return ans "
      ],
      "execution_count": 17,
      "outputs": []
    },
    {
      "cell_type": "code",
      "metadata": {
        "id": "Ag7mL_iVH2tv",
        "colab_type": "code",
        "colab": {
          "base_uri": "https://localhost:8080/",
          "height": 35
        },
        "outputId": "1fb42a73-3033-4a4e-8df5-1083a7e483d7"
      },
      "source": [
        "cipher(\"Have a nice day!\")"
      ],
      "execution_count": 18,
      "outputs": [
        {
          "output_type": "execute_result",
          "data": {
            "application/vnd.google.colaboratory.intrinsic": {
              "type": "string"
            },
            "text/plain": [
              "'Hzev z mrxv wzb!'"
            ]
          },
          "metadata": {
            "tags": []
          },
          "execution_count": 18
        }
      ]
    },
    {
      "cell_type": "code",
      "metadata": {
        "id": "WIk7msy1H3c-",
        "colab_type": "code",
        "colab": {
          "base_uri": "https://localhost:8080/",
          "height": 35
        },
        "outputId": "8aa55ea2-5ca5-4cbf-8cbe-7040c2d381b4"
      },
      "source": [
        "cipher(\"Hzev z mrxv wzb!\")"
      ],
      "execution_count": 19,
      "outputs": [
        {
          "output_type": "execute_result",
          "data": {
            "application/vnd.google.colaboratory.intrinsic": {
              "type": "string"
            },
            "text/plain": [
              "'Have a nice day!'"
            ]
          },
          "metadata": {
            "tags": []
          },
          "execution_count": 19
        }
      ]
    },
    {
      "cell_type": "code",
      "metadata": {
        "id": "2GiMoQloIAKt",
        "colab_type": "code",
        "colab": {}
      },
      "source": [
        "# 09. Typoglycemia\n",
        "\n",
        "import random\n",
        "\n",
        "def typog(text):\n",
        "    words = text.split(\" \")\n",
        "    altered_words = [word[0] + ''.join(random.sample(word[1:-1], len(word)-2)) + word[-1] if len(word) > 4 else word for word in words]\n",
        "    return \" \".join(altered_words)"
      ],
      "execution_count": 20,
      "outputs": []
    },
    {
      "cell_type": "code",
      "metadata": {
        "id": "vrlPWKK_Jc3D",
        "colab_type": "code",
        "colab": {
          "base_uri": "https://localhost:8080/",
          "height": 35
        },
        "outputId": "965f2bfd-1d0a-41ef-8478-d860cadf53a1"
      },
      "source": [
        "text = \"I couldn’t believe that I could actually understand what I was reading : the phenomenal power of the human mind .\"\n",
        "typog(text)"
      ],
      "execution_count": 21,
      "outputs": [
        {
          "output_type": "execute_result",
          "data": {
            "application/vnd.google.colaboratory.intrinsic": {
              "type": "string"
            },
            "text/plain": [
              "'I cuo’dnlt belveie that I could atulacly udnsrtnaed what I was raendig : the phnmeanoel power of the hmuan mind .'"
            ]
          },
          "metadata": {
            "tags": []
          },
          "execution_count": 21
        }
      ]
    }
  ]
}